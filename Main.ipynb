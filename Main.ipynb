{
 "cells": [
  {
   "cell_type": "code",
   "execution_count": 10,
   "id": "46d23f0e-0f03-442a-b6a3-b032b2155731",
   "metadata": {},
   "outputs": [],
   "source": [
    "#module for reading csv files\n",
    "import os\n",
    "import csv"
   ]
  },
  {
   "cell_type": "code",
   "execution_count": 41,
   "id": "e69a24a7-a82e-4832-9ab5-e01d14a254ce",
   "metadata": {},
   "outputs": [],
   "source": [
    "# Path for files\n",
    "csvpath = os.path.join(\"/Users/miguelramos/desktop/Challenge_2/Starter_Code 4/PyBank/Resources/budget_data.csv\")"
   ]
  },
  {
   "cell_type": "code",
   "execution_count": 42,
   "id": "8722ae4b-8ed8-4b1a-98be-ec115ee2294d",
   "metadata": {},
   "outputs": [],
   "source": [
    "#variables\n",
    "total_months = []\n",
    "total_profits = []\n",
    "total_changes = 0\n",
    "monthly_changes = []\n",
    "previous_value = 0"
   ]
  },
  {
   "cell_type": "code",
   "execution_count": 43,
   "id": "bc476eb5-855a-4c57-b0de-2a2e20487141",
   "metadata": {},
   "outputs": [],
   "source": [
    "# Open CSV File\n",
    "with open(csvpath) as csvfile:\n",
    "    csvreader=csv.reader(csvfile, delimiter=\",\")\n",
    "    csv_reader=next(csvreader)"
   ]
  },
  {
   "cell_type": "code",
   "execution_count": 78,
   "id": "c402cd24-c88f-4986-bf4b-b028f3d2bd6e",
   "metadata": {},
   "outputs": [
    {
     "ename": "NameError",
     "evalue": "name 'row' is not defined",
     "output_type": "error",
     "traceback": [
      "\u001b[0;31m---------------------------------------------------------------------------\u001b[0m",
      "\u001b[0;31mNameError\u001b[0m                                 Traceback (most recent call last)",
      "Input \u001b[0;32mIn [78]\u001b[0m, in \u001b[0;36m<cell line: 3>\u001b[0;34m()\u001b[0m\n\u001b[1;32m      1\u001b[0m \u001b[38;5;66;03m#Total of months & profits/losses\u001b[39;00m\n\u001b[0;32m----> 3\u001b[0m total_months\u001b[38;5;241m.\u001b[39mappend(\u001b[43mrow\u001b[49m[\u001b[38;5;241m0\u001b[39m])\n\u001b[1;32m      4\u001b[0m total_profits\u001b[38;5;241m.\u001b[39mappend(row[\u001b[38;5;241m1\u001b[39m])    \n\u001b[1;32m      5\u001b[0m \u001b[38;5;28mprint\u001b[39m(\u001b[38;5;28mlen\u001b[39m(total_months))\n",
      "\u001b[0;31mNameError\u001b[0m: name 'row' is not defined"
     ]
    }
   ],
   "source": [
    "#Total of months & profits/losses\n",
    "\n",
    "total_months.append(row[0])\n",
    "total_profits.append(row[1])    \n",
    "print(len(total_months))"
   ]
  },
  {
   "cell_type": "code",
   "execution_count": 79,
   "id": "c80884d8-bd81-4cd7-b552-2708a7a4ed32",
   "metadata": {},
   "outputs": [
    {
     "ename": "TypeError",
     "evalue": "'int' object is not iterable",
     "output_type": "error",
     "traceback": [
      "\u001b[0;31m---------------------------------------------------------------------------\u001b[0m",
      "\u001b[0;31mTypeError\u001b[0m                                 Traceback (most recent call last)",
      "Input \u001b[0;32mIn [79]\u001b[0m, in \u001b[0;36m<cell line: 3>\u001b[0;34m()\u001b[0m\n\u001b[1;32m      1\u001b[0m \u001b[38;5;66;03m# Net amount of Profits/Losses over the entire period\u001b[39;00m\n\u001b[0;32m----> 3\u001b[0m total_profits\u001b[38;5;241m=\u001b[39m[\u001b[38;5;28mint\u001b[39m(x)\u001b[38;5;28;01mfor\u001b[39;00m x \u001b[38;5;129;01min\u001b[39;00m total_profits]\n\u001b[1;32m      4\u001b[0m total_profits_sum\u001b[38;5;241m=\u001b[39m\u001b[38;5;28msum\u001b[39m(total_profits)\n\u001b[1;32m      5\u001b[0m \u001b[38;5;28mprint\u001b[39m(total_profits_sum)\n",
      "\u001b[0;31mTypeError\u001b[0m: 'int' object is not iterable"
     ]
    }
   ],
   "source": [
    "# Net amount of Profits/Losses over the entire period\n",
    "\n",
    "total_profits=[int(x)for x in total_profits]\n",
    "total_profits_sum=sum(total_profits)\n",
    "print(total_profits_sum)"
   ]
  },
  {
   "cell_type": "code",
   "execution_count": 86,
   "id": "64ad1b95-633e-4a3d-b5cc-c2c104968a42",
   "metadata": {},
   "outputs": [
    {
     "ename": "IndentationError",
     "evalue": "expected an indented block (4180829862.py, line 2)",
     "output_type": "error",
     "traceback": [
      "\u001b[0;36m  Input \u001b[0;32mIn [86]\u001b[0;36m\u001b[0m\n\u001b[0;31m    for i in range(len(total_profits)-1):\u001b[0m\n\u001b[0m                                         ^\u001b[0m\n\u001b[0;31mIndentationError\u001b[0m\u001b[0;31m:\u001b[0m expected an indented block\n"
     ]
    }
   ],
   "source": [
    "# Changes in profits and losses over the entire period\n",
    "for i in range(len(total_profits)-1):"
   ]
  },
  {
   "cell_type": "code",
   "execution_count": null,
   "id": "543cda1e-19b7-46a5-9466-89c03b48247a",
   "metadata": {},
   "outputs": [],
   "source": []
  },
  {
   "cell_type": "code",
   "execution_count": null,
   "id": "4028af2a-f2f0-40ad-9b10-f70a1fac9008",
   "metadata": {},
   "outputs": [],
   "source": []
  },
  {
   "cell_type": "code",
   "execution_count": null,
   "id": "9c97c83e-1c31-4e79-904f-29e625a11eb6",
   "metadata": {},
   "outputs": [],
   "source": []
  },
  {
   "cell_type": "code",
   "execution_count": null,
   "id": "e0bf6618-99f7-4d64-b275-0c13b7efedd6",
   "metadata": {},
   "outputs": [],
   "source": []
  },
  {
   "cell_type": "code",
   "execution_count": null,
   "id": "1f3f479c-9de6-4daa-a5ba-56f0423c5a03",
   "metadata": {},
   "outputs": [],
   "source": []
  },
  {
   "cell_type": "code",
   "execution_count": null,
   "id": "78144298-6d7d-4795-9f9f-baf89574ec11",
   "metadata": {},
   "outputs": [],
   "source": []
  },
  {
   "cell_type": "code",
   "execution_count": null,
   "id": "8c48b99b-5ec3-4354-9228-e6b6bbf7a2bf",
   "metadata": {},
   "outputs": [],
   "source": []
  },
  {
   "cell_type": "code",
   "execution_count": null,
   "id": "9fadde29-4fea-4f02-b50d-fb2bf0789fe0",
   "metadata": {},
   "outputs": [],
   "source": []
  },
  {
   "cell_type": "code",
   "execution_count": null,
   "id": "2b98c5ce-121a-476f-a552-1c1c0a7a53e8",
   "metadata": {},
   "outputs": [],
   "source": []
  }
 ],
 "metadata": {
  "kernelspec": {
   "display_name": "Python 3 (ipykernel)",
   "language": "python",
   "name": "python3"
  },
  "language_info": {
   "codemirror_mode": {
    "name": "ipython",
    "version": 3
   },
   "file_extension": ".py",
   "mimetype": "text/x-python",
   "name": "python",
   "nbconvert_exporter": "python",
   "pygments_lexer": "ipython3",
   "version": "3.9.12"
  }
 },
 "nbformat": 4,
 "nbformat_minor": 5
}
